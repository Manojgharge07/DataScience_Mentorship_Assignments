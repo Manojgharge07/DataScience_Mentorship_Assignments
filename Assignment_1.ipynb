{
  "nbformat": 4,
  "nbformat_minor": 0,
  "metadata": {
    "colab": {
      "name": "Assignment 1.ipynb",
      "provenance": [],
      "authorship_tag": "ABX9TyPDCsuumHKixPyVMixYnxSH",
      "include_colab_link": true
    },
    "kernelspec": {
      "name": "python3",
      "display_name": "Python 3"
    },
    "language_info": {
      "name": "python"
    }
  },
  "cells": [
    {
      "cell_type": "markdown",
      "metadata": {
        "id": "view-in-github",
        "colab_type": "text"
      },
      "source": [
        "<a href=\"https://colab.research.google.com/github/Manojgharge07/DataScience_Mentorship_Assignments/blob/main/Assignment_1.ipynb\" target=\"_parent\"><img src=\"https://colab.research.google.com/assets/colab-badge.svg\" alt=\"Open In Colab\"/></a>"
      ]
    },
    {
      "cell_type": "markdown",
      "source": [
        "# **Q.1 What is a List?**\n",
        "\n",
        "1. List is data structure or type in Python. which is define by having values in square brackets[ ]. with comma [ , ] seperator.\n",
        "\n",
        "2. List data type is Mutable and order in sequence. \n",
        "\n",
        "3. It is heterogeneous objects.\n",
        "\n",
        "4. We can differentiate duplicate elements by using index\n",
        "\n",
        "5. The indexing of a list is done with 0 being the first index.\n",
        "\n",
        "6. There is adding & removing the elements in the list, with use of append & remove.\n"
      ],
      "metadata": {
        "id": "o0Pnl9CHbf8N"
      }
    },
    {
      "cell_type": "code",
      "execution_count": null,
      "metadata": {
        "colab": {
          "base_uri": "https://localhost:8080/"
        },
        "id": "KKAAWftpbZwR",
        "outputId": "aa385620-5d65-43f8-c8d1-94b62f4844bf"
      },
      "outputs": [
        {
          "output_type": "stream",
          "name": "stdout",
          "text": [
            "[]\n",
            "<class 'list'>\n"
          ]
        }
      ],
      "source": [
        "# list type:\n",
        "x=[]  \n",
        "print(x)\n",
        "print(type(x))"
      ]
    },
    {
      "cell_type": "markdown",
      "source": [
        "# **Q.2 What is a Tuple?**\n",
        "\n",
        "1. Tuple is data structure or type in Python. which is define by having values in paranthisis brackets( ).\n",
        "\n",
        "2. Tuples are used to store multiple items in a single variable. \n",
        "\n",
        "3. It is immutable. i.e once we creates Tuple, we cannot perform any changes in that object.\n",
        "\n",
        "4.  Tuple is one of 4 built-in data types & other 3 are List, Set, and Dictionary, all with different qualities and usage.\n",
        "\n",
        "5. Duplicates are allowed Heterogeneous objects are allowed.\n",
        "\n",
        "6. Indexing is possible in tuple."
      ],
      "metadata": {
        "id": "SUj-V_A4wRdF"
      }
    },
    {
      "cell_type": "code",
      "source": [
        "x=()\n",
        "x"
      ],
      "metadata": {
        "colab": {
          "base_uri": "https://localhost:8080/"
        },
        "id": "2wtPZRjBwEa7",
        "outputId": "ca7a3664-26e6-44be-f6a5-c56ccfb3eac6"
      },
      "execution_count": null,
      "outputs": [
        {
          "output_type": "execute_result",
          "data": {
            "text/plain": [
              "()"
            ]
          },
          "metadata": {},
          "execution_count": 29
        }
      ]
    },
    {
      "cell_type": "code",
      "source": [
        "(type(x))"
      ],
      "metadata": {
        "colab": {
          "base_uri": "https://localhost:8080/"
        },
        "id": "Z5Qkmba49G-a",
        "outputId": "482e52d0-2dbe-42b2-d583-d08a8c712eaf"
      },
      "execution_count": null,
      "outputs": [
        {
          "output_type": "execute_result",
          "data": {
            "text/plain": [
              "tuple"
            ]
          },
          "metadata": {},
          "execution_count": 31
        }
      ]
    },
    {
      "cell_type": "markdown",
      "source": [
        "# **Q.3  What is the difference between List and Tuple?**\n",
        "\n",
        "1. The main difference is, The list is mutable data type & The tuple is immutable data type.\n",
        "\n",
        "2. List is define by [ ]. & Tuple is define by ( ).\n",
        "\n",
        "3. List dont have keys for dict. & Tuple is having keys for dict.\n",
        "\n"
      ],
      "metadata": {
        "id": "mkRLlx2K9eEO"
      }
    },
    {
      "cell_type": "markdown",
      "source": [
        "# **Q.4 Python Program to find the largest element in the list**"
      ],
      "metadata": {
        "id": "k4rNNLE0_VUv"
      }
    },
    {
      "cell_type": "code",
      "source": [
        "#by using max operator:\n",
        "x = [10,18,7,46,40,86,37,90,36]\n",
        "print(\"Largest Element in the list is :\", max(x))"
      ],
      "metadata": {
        "colab": {
          "base_uri": "https://localhost:8080/"
        },
        "id": "OwIrRMlv9Ts4",
        "outputId": "80c0ea5c-1ce8-47be-b1b8-3731178c5e03"
      },
      "execution_count": null,
      "outputs": [
        {
          "output_type": "stream",
          "name": "stdout",
          "text": [
            "Largest Element in the list is : 90\n"
          ]
        }
      ]
    },
    {
      "cell_type": "code",
      "source": [
        "y=[10,18,7,46,40,86,37,90,36,390,455]\n",
        "maxn=max(y)\n",
        "print(maxn)"
      ],
      "metadata": {
        "colab": {
          "base_uri": "https://localhost:8080/"
        },
        "id": "T_JDNMKqBSio",
        "outputId": "f7d55505-cc1e-4d5f-ee20-370410fe7038"
      },
      "execution_count": null,
      "outputs": [
        {
          "output_type": "stream",
          "name": "stdout",
          "text": [
            "455\n"
          ]
        }
      ]
    },
    {
      "cell_type": "code",
      "source": [
        "# in Str type:\n",
        "x = [\"boolean\",\"int\"]\n",
        "print(\"maximum element in list is :\",max(x))"
      ],
      "metadata": {
        "colab": {
          "base_uri": "https://localhost:8080/"
        },
        "id": "QhHFJjpjB7FB",
        "outputId": "1d9b08da-ae9b-4061-afa8-b79601deeac5"
      },
      "execution_count": null,
      "outputs": [
        {
          "output_type": "stream",
          "name": "stdout",
          "text": [
            "maximum element in list is : int\n"
          ]
        }
      ]
    },
    {
      "cell_type": "markdown",
      "source": [
        "# **Q.5 Python program to interchange first and last elements in a list.**"
      ],
      "metadata": {
        "id": "3sCyH-_6CdNW"
      }
    },
    {
      "cell_type": "code",
      "source": [
        "# to interchange the elements by using index:\n",
        "x = [45, 86, \"Hello\", 72, \"Python\"]\n",
        "\n",
        "y = x[0]\n",
        "z = x[4]\n",
        "x[0]=z\n",
        "x[4]=y\n",
        "print(x)"
      ],
      "metadata": {
        "colab": {
          "base_uri": "https://localhost:8080/"
        },
        "id": "pLhghHRBCI0K",
        "outputId": "b408ccc8-ceb1-4170-8446-8a01f676d363"
      },
      "execution_count": null,
      "outputs": [
        {
          "output_type": "stream",
          "name": "stdout",
          "text": [
            "['Python', 86, 'Hello', 72, 45]\n"
          ]
        }
      ]
    },
    {
      "cell_type": "markdown",
      "source": [
        "# **Q.6 Python program to swap two elements in a list**"
      ],
      "metadata": {
        "id": "nssyw4AiE8Ws"
      }
    },
    {
      "cell_type": "code",
      "source": [
        "# to swap the elements by using index:\n",
        "x = [45, 86, \"Hello\", 72, \"Python\",789,345,\"Langauge\"]\n",
        "\n",
        "y=x[2]\n",
        "z=x[5]\n",
        "\n",
        "\n",
        "x[2]=z\n",
        "x[5]=y\n",
        "print(x)"
      ],
      "metadata": {
        "colab": {
          "base_uri": "https://localhost:8080/"
        },
        "id": "uNGTrec0FGms",
        "outputId": "80c0ccff-7dc8-4822-8e31-739054cb22b5"
      },
      "execution_count": null,
      "outputs": [
        {
          "output_type": "stream",
          "name": "stdout",
          "text": [
            "[45, 86, 789, 72, 'Python', 'Hello', 345, 'Langauge']\n"
          ]
        }
      ]
    },
    {
      "cell_type": "markdown",
      "source": [
        "# **Q.7 Python program to Reverse a List**"
      ],
      "metadata": {
        "id": "rGA0EnChHj2x"
      }
    },
    {
      "cell_type": "code",
      "source": [
        "#reverse list by using slice operator:\n",
        "x = [45, 86, \"Hello\", 72, \"Python\",789,345,\"Langauge\"]\n",
        "x[::-1]"
      ],
      "metadata": {
        "colab": {
          "base_uri": "https://localhost:8080/"
        },
        "id": "NKFxvSVUHQ0_",
        "outputId": "37a009e0-a8a3-4913-b9b7-affac38211f7"
      },
      "execution_count": null,
      "outputs": [
        {
          "output_type": "execute_result",
          "data": {
            "text/plain": [
              "['Langauge', 345, 789, 'Python', 72, 'Hello', 86, 45]"
            ]
          },
          "metadata": {},
          "execution_count": 42
        }
      ]
    },
    {
      "cell_type": "code",
      "source": [
        "#reverse list by using .reverse():\n",
        "a = ['asdf','tyui',876,467,32,'dfgh']\n",
        "\n",
        "a.reverse()\n",
        "print(a)"
      ],
      "metadata": {
        "colab": {
          "base_uri": "https://localhost:8080/"
        },
        "id": "P0Oxua7BIAow",
        "outputId": "b7d96f7c-a1cd-4838-bfe7-addd54e3fb38"
      },
      "execution_count": null,
      "outputs": [
        {
          "output_type": "stream",
          "name": "stdout",
          "text": [
            "['dfgh', 32, 467, 876, 'tyui', 'asdf']\n"
          ]
        }
      ]
    },
    {
      "cell_type": "markdown",
      "source": [
        "# **Q.8 Python program to count occurrences of an element in a list.**"
      ],
      "metadata": {
        "id": "WuPxTmhaNdFp"
      }
    },
    {
      "cell_type": "code",
      "source": [
        "# count element by using .count():\n",
        "x = [45, 86,\"Python\", \"Hello\", 72, \"Python\",789,345,\"Langauge\",789,34,78,789]\n",
        "x.count(789)"
      ],
      "metadata": {
        "colab": {
          "base_uri": "https://localhost:8080/"
        },
        "id": "YrNLRWv1MqYb",
        "outputId": "5d828a79-ee8e-442f-d893-ad4c8b594fa6"
      },
      "execution_count": null,
      "outputs": [
        {
          "output_type": "execute_result",
          "data": {
            "text/plain": [
              "3"
            ]
          },
          "metadata": {},
          "execution_count": 51
        }
      ]
    },
    {
      "cell_type": "code",
      "source": [
        "# count element by using .count():\n",
        "x = [45, 86,\"Python\", \"Hello\", 72, \"Python\",789,345,\"Langauge\",789,34,78,789]\n",
        "print(x.count(\"Python\"))\n",
        "x.count(789)"
      ],
      "metadata": {
        "colab": {
          "base_uri": "https://localhost:8080/"
        },
        "id": "dBJYEFgDQilK",
        "outputId": "c0f2956a-07ad-4ff5-e1ed-4a21019aaee3"
      },
      "execution_count": null,
      "outputs": [
        {
          "output_type": "stream",
          "name": "stdout",
          "text": [
            "2\n"
          ]
        },
        {
          "output_type": "execute_result",
          "data": {
            "text/plain": [
              "3"
            ]
          },
          "metadata": {},
          "execution_count": 52
        }
      ]
    },
    {
      "cell_type": "markdown",
      "source": [
        "# **Q.9 Python program to find the sum of elements in a list.**"
      ],
      "metadata": {
        "id": "-joTu39yRh-5"
      }
    },
    {
      "cell_type": "code",
      "source": [
        "y=[10,18,7,46,40,86,37,90,36,390,455]\n",
        "\n",
        "sum = 0\n",
        "for i in y:\n",
        "  sum=sum+i\n",
        "print(sum)  "
      ],
      "metadata": {
        "colab": {
          "base_uri": "https://localhost:8080/"
        },
        "id": "dCKZeRtaRW6t",
        "outputId": "47b8493e-d6b6-4ba2-f006-aaf7edeba852"
      },
      "execution_count": null,
      "outputs": [
        {
          "output_type": "stream",
          "name": "stdout",
          "text": [
            "1215\n"
          ]
        }
      ]
    },
    {
      "cell_type": "code",
      "source": [
        "y=[10,18,7]\n",
        "\n",
        "sum=1   \n",
        "for i in y:\n",
        "  sum=sum+i\n",
        "print(sum)"
      ],
      "metadata": {
        "colab": {
          "base_uri": "https://localhost:8080/"
        },
        "id": "jYhm2g0WSlaG",
        "outputId": "9489a51f-c5b8-4b3d-a7d8-7319016b3a5a"
      },
      "execution_count": null,
      "outputs": [
        {
          "output_type": "stream",
          "name": "stdout",
          "text": [
            "36\n"
          ]
        }
      ]
    },
    {
      "cell_type": "code",
      "source": [
        "x = eval(input(\"Enter list :\"))\n",
        "sum = 0\n",
        "for i in x:\n",
        "  sum=sum+i\n",
        "print(sum)"
      ],
      "metadata": {
        "colab": {
          "base_uri": "https://localhost:8080/"
        },
        "id": "sZ7tMW7xTXQE",
        "outputId": "575fa76c-d69d-4112-929b-bc9a2ea93246"
      },
      "execution_count": null,
      "outputs": [
        {
          "output_type": "stream",
          "name": "stdout",
          "text": [
            "Enter list :10,12,14,16,13\n",
            "65\n"
          ]
        }
      ]
    },
    {
      "cell_type": "markdown",
      "source": [
        "# **Q.10 Python program to Multiply all numbers in the list**"
      ],
      "metadata": {
        "id": "6sNfGkxDUfTq"
      }
    },
    {
      "cell_type": "code",
      "source": [
        "y=[10,18,7]\n",
        "\n",
        "multiply = 1\n",
        "for i in y:\n",
        "  multiply=multiply*i\n",
        "print(multiply)"
      ],
      "metadata": {
        "colab": {
          "base_uri": "https://localhost:8080/"
        },
        "id": "BVRZWhCgT1Oe",
        "outputId": "d48c58c5-34d2-470b-bb16-9218210e22ad"
      },
      "execution_count": null,
      "outputs": [
        {
          "output_type": "stream",
          "name": "stdout",
          "text": [
            "1260\n"
          ]
        }
      ]
    },
    {
      "cell_type": "code",
      "source": [
        "y= eval(input(\"Ener multiply Number :\"))\n",
        "\n",
        "mul = 1\n",
        "for i in y:\n",
        "  mul=mul*i\n",
        "print(mul)\n"
      ],
      "metadata": {
        "colab": {
          "base_uri": "https://localhost:8080/"
        },
        "id": "RNXKEjqQV8oy",
        "outputId": "71d124fd-79ed-4466-f779-5c834abc9234"
      },
      "execution_count": null,
      "outputs": [
        {
          "output_type": "stream",
          "name": "stdout",
          "text": [
            "Ener multiply Number :10,5,7,2\n",
            "700\n"
          ]
        }
      ]
    },
    {
      "cell_type": "markdown",
      "source": [
        "# **Q.11 What are the ways to find the length of a list**\n"
      ],
      "metadata": {
        "id": "jV87kzo3WyHf"
      }
    },
    {
      "cell_type": "code",
      "source": [
        "#find lenght using len( ) operator:\n",
        "x = [45, 86,\"Python\", \"Hello\", 72, \"Python\",789,345,\"Langauge\",789,34,78,789]\n",
        "len(x)"
      ],
      "metadata": {
        "colab": {
          "base_uri": "https://localhost:8080/"
        },
        "id": "gHNDiDkoWqOy",
        "outputId": "44835393-0ea1-4aab-bb7c-57f533a91c90"
      },
      "execution_count": null,
      "outputs": [
        {
          "output_type": "execute_result",
          "data": {
            "text/plain": [
              "13"
            ]
          },
          "metadata": {},
          "execution_count": 63
        }
      ]
    },
    {
      "cell_type": "markdown",
      "source": [
        "# **Q.12 Python program to find the smallest and largest number in a list (Without min-max function)**"
      ],
      "metadata": {
        "id": "vfCcDTyPXibr"
      }
    },
    {
      "cell_type": "code",
      "source": [
        "x = int(input(\"Enter First No\"))\n",
        "y = int(input(\"Enter Second No\"))\n",
        "z = int(input(\"Enter Third No\"))\n",
        "\n",
        "if x<y and x<z:\n",
        "  print(\"Smallest Number: \",x)\n",
        "elif y<z:\n",
        "  print(\"Smallest Number: \",y)\n",
        "else:\n",
        "  print(\"Smallest Number is: \",z)\n"
      ],
      "metadata": {
        "colab": {
          "base_uri": "https://localhost:8080/"
        },
        "id": "vEMX44RfXXxG",
        "outputId": "e3ee3ea1-99b5-4980-cf10-d4c0bfbe3231"
      },
      "execution_count": null,
      "outputs": [
        {
          "output_type": "stream",
          "name": "stdout",
          "text": [
            "Enter First No43\n",
            "Enter Second No54\n",
            "Enter Third No87\n",
            "Smallest Number:  43\n"
          ]
        }
      ]
    },
    {
      "cell_type": "code",
      "source": [
        "x = int(input(\"Enter First No\"))\n",
        "y = int(input(\"Enter Second No\"))\n",
        "z = int(input(\"Enter Third No\"))\n",
        "\n",
        "if x>y and x>z:\n",
        "  print(\"Largest Number: \",x)\n",
        "elif y>z:\n",
        "  print(\"Largest Number: \",y)\n",
        "else:\n",
        "  print(\"Largest Number is: \",z)"
      ],
      "metadata": {
        "colab": {
          "base_uri": "https://localhost:8080/"
        },
        "id": "X2UNrhzLZu0v",
        "outputId": "1eee6c64-8f32-49a0-d452-7c4be9ba026d"
      },
      "execution_count": null,
      "outputs": [
        {
          "output_type": "stream",
          "name": "stdout",
          "text": [
            "Enter First No43\n",
            "Enter Second No67\n",
            "Enter Third No98\n",
            "Largest Number is:  98\n"
          ]
        }
      ]
    },
    {
      "cell_type": "code",
      "source": [
        "x = int(input(\"Enter First No\"))\n",
        "y = int(input(\"Enter Second No\"))\n",
        "z = int(input(\"Enter Third No\"))\n",
        "\n",
        "x if x>y and x>z else  y if y>z else z "
      ],
      "metadata": {
        "colab": {
          "base_uri": "https://localhost:8080/"
        },
        "id": "sfziQVAYbNSa",
        "outputId": "e3fdff26-a168-4098-a1bc-ecd653cc3e47"
      },
      "execution_count": null,
      "outputs": [
        {
          "name": "stdout",
          "output_type": "stream",
          "text": [
            "Enter First No544\n",
            "Enter Second No765\n",
            "Enter Third No673\n"
          ]
        },
        {
          "output_type": "execute_result",
          "data": {
            "text/plain": [
              "765"
            ]
          },
          "metadata": {},
          "execution_count": 69
        }
      ]
    },
    {
      "cell_type": "markdown",
      "source": [
        "# **Q.13 Python Program to find the area of a circle**"
      ],
      "metadata": {
        "id": "ym2D-1mlce4s"
      }
    },
    {
      "cell_type": "code",
      "source": [
        "#area of circle:\n",
        "import math\n",
        "radius = float(input(\"Enter radius of circle : \"))\n",
        "area = math.pi * radius * radius\n",
        "print(\"Radius of the circle is :\" ,area)"
      ],
      "metadata": {
        "colab": {
          "base_uri": "https://localhost:8080/"
        },
        "id": "ZZ156noQcjk0",
        "outputId": "eb0053fc-2922-4cb5-f0d6-1079c6c74315"
      },
      "execution_count": null,
      "outputs": [
        {
          "output_type": "stream",
          "name": "stdout",
          "text": [
            "Enter radius of circle : 5\n",
            "Radius of the circle is : 78.53981633974483\n"
          ]
        }
      ]
    },
    {
      "cell_type": "markdown",
      "source": [
        "# **Q.14 Take inputs from the user to make a list. Again take one input from the user and search it in the list and delete that element, if found. Iterate over a list using for loop.**"
      ],
      "metadata": {
        "id": "kajAZhIvh9kI"
      }
    },
    {
      "cell_type": "code",
      "source": [
        "x =eval(input(\"Enter list : \"))\n",
        "z =[]\n",
        "y = eval(input(\"Enter int find in list: \"))\n",
        "\n",
        "print(y in x) #check y is in list or not\n",
        "\n",
        "for i in x:  #for loop itrate every value \n",
        "  if i==y:\n",
        "   continue   #if value find in list it will continue and dont print\n",
        "  else:         \n",
        "    z.append(i)\n",
        "print(z)"
      ],
      "metadata": {
        "colab": {
          "base_uri": "https://localhost:8080/"
        },
        "id": "K9UAFZDihMwq",
        "outputId": "51fc3557-ea3f-42d5-f6e8-2c58f8c2d349"
      },
      "execution_count": null,
      "outputs": [
        {
          "output_type": "stream",
          "name": "stdout",
          "text": [
            "Enter list : 10,12,18,22,26,18,34,12,45,18\n",
            "Enter int find in list: 18\n",
            "True\n",
            "[10, 12, 22, 26, 34, 12, 45]\n"
          ]
        }
      ]
    },
    {
      "cell_type": "code",
      "source": [
        "x =eval(input(\"Enter list : \"))\n",
        "z =[]\n",
        "y = eval(input(\"Enter int find in list: \"))\n",
        "\n",
        "print(y in x) #check y is in list or not\n",
        "\n",
        "for i in x:  #for loop itrate every value \n",
        "  if i==y:\n",
        "   continue   #if value find in list it will continue and dont print\n",
        "  else:         \n",
        "    z.append(i)\n",
        "print(z)"
      ],
      "metadata": {
        "colab": {
          "base_uri": "https://localhost:8080/"
        },
        "id": "nVaKojPLjbQD",
        "outputId": "af248022-da23-4663-caae-eba9fc05f605"
      },
      "execution_count": null,
      "outputs": [
        {
          "output_type": "stream",
          "name": "stdout",
          "text": [
            "Enter list : 10,12,18,22,26,18,34,12,45,18\n",
            "Enter int find in list: 50\n",
            "False\n",
            "[10, 12, 18, 22, 26, 18, 34, 12, 45, 18]\n"
          ]
        }
      ]
    },
    {
      "cell_type": "markdown",
      "source": [
        "# **Q.15  You are given a list of integer elements. Make a new list that will store a square of elements of the previous list. (With and without list comprehension)**\n",
        "\n",
        "# i. Input_list = [2,5,6,12] \n",
        "\n",
        "# ii. Output_list = [4,25,36,144] "
      ],
      "metadata": {
        "id": "EowOPZ2fj-Xq"
      }
    },
    {
      "cell_type": "code",
      "source": [
        "x = [2,5,6,12]\n",
        "y= [] # empty list\n",
        "for i in x:\n",
        "  i=i*i   \n",
        "  y.append(i) #append new items in list\n",
        "print(y)"
      ],
      "metadata": {
        "colab": {
          "base_uri": "https://localhost:8080/"
        },
        "id": "-9YLavAzjwHU",
        "outputId": "1dfaf6bb-d376-4e71-e74d-74d2f6f51d43"
      },
      "execution_count": null,
      "outputs": [
        {
          "output_type": "stream",
          "name": "stdout",
          "text": [
            "[4, 25, 36, 144]\n"
          ]
        }
      ]
    }
  ]
}