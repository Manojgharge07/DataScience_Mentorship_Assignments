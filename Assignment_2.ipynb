{
  "nbformat": 4,
  "nbformat_minor": 0,
  "metadata": {
    "colab": {
      "name": "Assignment_2.ipynb",
      "provenance": [],
      "authorship_tag": "ABX9TyMH8S8TXta8bSVKyT6m67Kq",
      "include_colab_link": true
    },
    "kernelspec": {
      "name": "python3",
      "display_name": "Python 3"
    },
    "language_info": {
      "name": "python"
    }
  },
  "cells": [
    {
      "cell_type": "markdown",
      "metadata": {
        "id": "view-in-github",
        "colab_type": "text"
      },
      "source": [
        "<a href=\"https://colab.research.google.com/github/Manojgharge07/DataScience_Mentorship_Assignments/blob/main/Assignment_2.ipynb\" target=\"_parent\"><img src=\"https://colab.research.google.com/assets/colab-badge.svg\" alt=\"Open In Colab\"/></a>"
      ]
    },
    {
      "cell_type": "markdown",
      "source": [
        "# **Q. 1 What’s The Difference Between The Python append() and extend() Methods?**\n",
        "\n",
        "1. The main difference is append( ) method add elements in list. And extend( ) method join or concatenates the whole list that means 1st list add with another.\n",
        "\n",
        "2. In append add only single elements in list and in extend we can add multiple elements.\n",
        "\n"
      ],
      "metadata": {
        "id": "RIpAFadxLSC8"
      }
    },
    {
      "cell_type": "code",
      "source": [
        "l = [\"geeks\", \"for\"]\n",
        "l.append(\"geeks\")\n",
        "print(l)"
      ],
      "metadata": {
        "colab": {
          "base_uri": "https://localhost:8080/"
        },
        "id": "CWLMFaNON_Cf",
        "outputId": "56dc1bdd-d5ef-4b46-f3fd-5de4235590ff"
      },
      "execution_count": null,
      "outputs": [
        {
          "output_type": "stream",
          "name": "stdout",
          "text": [
            "['geeks', 'for', 'geeks']\n"
          ]
        }
      ]
    },
    {
      "cell_type": "code",
      "source": [
        "l = [\"geeks\", \"for\",\"geeks\"]\n",
        "l2=[\"geeks\", \"for\",\"geeks\"]\n",
        "l.extend(l2)\n",
        "print(l)"
      ],
      "metadata": {
        "colab": {
          "base_uri": "https://localhost:8080/"
        },
        "id": "bNfwHDvmOhtH",
        "outputId": "4a2a5809-43be-4e21-db43-b3e97ab15aab"
      },
      "execution_count": null,
      "outputs": [
        {
          "output_type": "stream",
          "name": "stdout",
          "text": [
            "['geeks', 'for', 'geeks', 'geeks', 'for', 'geeks']\n"
          ]
        }
      ]
    },
    {
      "cell_type": "markdown",
      "source": [
        "# **Q. 2 Write a Python program to append a list to the second list**"
      ],
      "metadata": {
        "id": "-KjIE32RNlHe"
      }
    },
    {
      "cell_type": "code",
      "execution_count": null,
      "metadata": {
        "id": "XaSzdv4DqICZ",
        "colab": {
          "base_uri": "https://localhost:8080/"
        },
        "outputId": "d853b26c-1ccb-4e00-d0b4-2eec0c6a01b3"
      },
      "outputs": [
        {
          "output_type": "stream",
          "name": "stdout",
          "text": [
            "['geeks', 'for', 'geeks', [10, 20, 30, 40, 50]]\n"
          ]
        }
      ],
      "source": [
        "l = [\"geeks\", \"for\",\"geeks\"]\n",
        "l2=[10,20,30,40,50]\n",
        "l.append(l2)\n",
        "print(l)"
      ]
    },
    {
      "cell_type": "markdown",
      "source": [
        "# **Q. 3 Write a Python program to find the third-largest number in a list**"
      ],
      "metadata": {
        "id": "nisn5HDGQtbr"
      }
    },
    {
      "cell_type": "code",
      "source": [
        "#using sort()\n",
        "a=[5,8,2,9,4,10,7]\n",
        "a.sort()\n",
        "print(a[-3])"
      ],
      "metadata": {
        "id": "9sOsN5skgu7s",
        "outputId": "7d95fbfa-0f3b-4abd-f4c0-738373423729",
        "colab": {
          "base_uri": "https://localhost:8080/"
        }
      },
      "execution_count": null,
      "outputs": [
        {
          "output_type": "stream",
          "name": "stdout",
          "text": [
            "8\n"
          ]
        }
      ]
    },
    {
      "cell_type": "code",
      "source": [
        "l=[5,8,3,9,6,10,7,12,1,15,22,18]\n",
        "for j in range(3):\n",
        "  max=l[0]\n",
        "  for i in l:\n",
        "    if i>max:\n",
        "       max=i\n",
        "  if j==2:\n",
        "     print(max)\n",
        "  else:\n",
        "     l.remove(max)"
      ],
      "metadata": {
        "colab": {
          "base_uri": "https://localhost:8080/"
        },
        "id": "WjRyB4zzQ1qC",
        "outputId": "4c1d3d9b-39f0-4c4b-daf2-02f8f55f3802"
      },
      "execution_count": null,
      "outputs": [
        {
          "output_type": "stream",
          "name": "stdout",
          "text": [
            "15\n"
          ]
        }
      ]
    },
    {
      "cell_type": "markdown",
      "source": [
        "# **Q. 4 Write a Python program to get the frequency of the elements in a list.**"
      ],
      "metadata": {
        "id": "UjNY2EAsblYS"
      }
    },
    {
      "cell_type": "code",
      "source": [
        "#count()\n",
        "\n",
        "list1 =[10,12,45,10,15,12,45,54,5,10,12,15]\n",
        "\n",
        "print(list1.count(12))\n",
        "print(list1.count(45))\n",
        "list1.count(15)"
      ],
      "metadata": {
        "id": "AH79852ti2r_",
        "outputId": "72ab9c7e-04db-4151-a1cb-a0d000981fae",
        "colab": {
          "base_uri": "https://localhost:8080/"
        }
      },
      "execution_count": null,
      "outputs": [
        {
          "output_type": "stream",
          "name": "stdout",
          "text": [
            "3\n",
            "2\n"
          ]
        },
        {
          "output_type": "execute_result",
          "data": {
            "text/plain": [
              "2"
            ]
          },
          "metadata": {},
          "execution_count": 2
        }
      ]
    },
    {
      "cell_type": "code",
      "source": [
        "s=\"1,2,1,3,2,4,5,3,4,7,5,7,4,7,4,4,3,2,2,\"\n",
        "d={}\n",
        "for x in s:\n",
        "  if x in d.keys():\n",
        "     d[x]=d[x]+1\n",
        "  else:\n",
        "     d[x]=1"
      ],
      "metadata": {
        "id": "FUDGInnLbS9o"
      },
      "execution_count": null,
      "outputs": []
    },
    {
      "cell_type": "code",
      "source": [
        "d"
      ],
      "metadata": {
        "colab": {
          "base_uri": "https://localhost:8080/"
        },
        "id": "rSpcZ027nCzq",
        "outputId": "6cdb3b54-aa51-4a4f-f04c-936137213596"
      },
      "execution_count": null,
      "outputs": [
        {
          "output_type": "execute_result",
          "data": {
            "text/plain": [
              "{',': 19, '1': 2, '2': 4, '3': 3, '4': 5, '5': 2, '7': 3}"
            ]
          },
          "metadata": {},
          "execution_count": 10
        }
      ]
    },
    {
      "cell_type": "markdown",
      "source": [
        "# **Q.5 Write a Python program to check whether a list contains a sublist**"
      ],
      "metadata": {
        "id": "oBBEzkoDnmLB"
      }
    },
    {
      "cell_type": "code",
      "source": [
        "a = [1, 2, 3, 4, 5]\n",
        "b = [1, 2]\n",
        " \n",
        "# using set to find if element exists in another list\n",
        "result = set(x in a for x in b)\n",
        " \n",
        "flag = 0\n",
        " \n",
        "for ans in result:\n",
        "    if ans == False:\n",
        "        flag = 1\n",
        " \n",
        "# Printing list\n",
        "print(\"Original list : \" + str(a))\n",
        "print(\"Original sub list : \" + str(b))\n",
        " \n",
        "if flag == 0:\n",
        "    print(\"Yes, list is subset of other.\")\n",
        "else:\n",
        "    print(\"No, list is not subset of other.\")"
      ],
      "metadata": {
        "colab": {
          "base_uri": "https://localhost:8080/"
        },
        "id": "Do98aGxLnF2f",
        "outputId": "1e81ad99-7084-4519-bdb1-249973946e18"
      },
      "execution_count": null,
      "outputs": [
        {
          "output_type": "stream",
          "name": "stdout",
          "text": [
            "Original list : [1, 2, 3, 4, 5]\n",
            "Original sub list : [1, 2]\n",
            "Yes, list is subset of other.\n"
          ]
        }
      ]
    },
    {
      "cell_type": "markdown",
      "source": [
        "# **Q. 6 Write a Python program to generate all sublists of a list**\n"
      ],
      "metadata": {
        "id": "v1fpHohXx3Pg"
      }
    },
    {
      "cell_type": "code",
      "source": [
        "l = [10,11,12,13,14,15,16,17,18]\n",
        "n= len(l)\n",
        "l2 = []\n",
        "for k in l:     \n",
        "  l2.append(k)\n",
        "  print(l2)\n",
        "print(n)"
      ],
      "metadata": {
        "id": "k5bQAbwGxwkQ",
        "outputId": "443c2231-0595-4953-ecfa-dcb2bf0e7fd1",
        "colab": {
          "base_uri": "https://localhost:8080/"
        }
      },
      "execution_count": null,
      "outputs": [
        {
          "output_type": "stream",
          "name": "stdout",
          "text": [
            "[10]\n",
            "[10, 11]\n",
            "[10, 11, 12]\n",
            "[10, 11, 12, 13]\n",
            "[10, 11, 12, 13, 14]\n",
            "[10, 11, 12, 13, 14, 15]\n",
            "[10, 11, 12, 13, 14, 15, 16]\n",
            "[10, 11, 12, 13, 14, 15, 16, 17]\n",
            "[10, 11, 12, 13, 14, 15, 16, 17, 18]\n",
            "9\n"
          ]
        }
      ]
    },
    {
      "cell_type": "markdown",
      "source": [
        ""
      ],
      "metadata": {
        "id": "IBQCTzY319vm"
      }
    },
    {
      "cell_type": "markdown",
      "source": [
        "# **Q. 8 How to flatten a list in python?**\n",
        "\n",
        "\n",
        "There are three ways to flatten a Python list:\n",
        "\n",
        "\n",
        "1. Using a list comprehension.\n",
        "\n",
        "2. Using a nested for loop.\n",
        "\n",
        "3. Using the itertools. chain() method."
      ],
      "metadata": {
        "id": "N6sWeMQ_1_Jd"
      }
    },
    {
      "cell_type": "markdown",
      "source": [
        "# **Q. 9 How to sort a list in ascending and descending order without using the sort function?**"
      ],
      "metadata": {
        "id": "D2hQfHB23Yje"
      }
    },
    {
      "cell_type": "code",
      "source": [
        "my_list = [4, 2, 3, -1, -2, 0, 1]   #Ascending order\n",
        "\n",
        "for i in range(len(my_list)):\n",
        "    for j in range(i + 1, len(my_list)):\n",
        "\n",
        "        if my_list[i] > my_list[j]:\n",
        "            my_list[i], my_list[j] = my_list[j], my_list[i]\n",
        "\n",
        "print(my_list)"
      ],
      "metadata": {
        "colab": {
          "base_uri": "https://localhost:8080/"
        },
        "id": "obFzC5793ZHq",
        "outputId": "833bbf81-22ac-4990-a1fb-add54806382a"
      },
      "execution_count": null,
      "outputs": [
        {
          "output_type": "stream",
          "name": "stdout",
          "text": [
            "[-2, -1, 0, 1, 2, 3, 4]\n"
          ]
        }
      ]
    },
    {
      "cell_type": "code",
      "source": [
        "my_list = [4, 2, 3, -1, -2, 0, 1]   #Descending order\n",
        "\n",
        "for i in range(len(my_list)):\n",
        "    for j in range(i + 1, len(my_list)):\n",
        "\n",
        "        if my_list[i] < my_list[j]:\n",
        "            my_list[i], my_list[j] = my_list[j], my_list[i]\n",
        "\n",
        "print(my_list)"
      ],
      "metadata": {
        "colab": {
          "base_uri": "https://localhost:8080/"
        },
        "id": "r9YhpeNA3Z_5",
        "outputId": "04957423-75ba-4ba0-dbcb-db64ab0dbae7"
      },
      "execution_count": null,
      "outputs": [
        {
          "output_type": "stream",
          "name": "stdout",
          "text": [
            "[4, 3, 2, 1, 0, -1, -2]\n"
          ]
        }
      ]
    },
    {
      "cell_type": "markdown",
      "source": [
        "# **Q. 10 How to sort a tuple?**\n",
        "\n",
        "To sort a Tuple in Python, use sorted() builtin function."
      ],
      "metadata": {
        "id": "i0D_DzaQ4cVD"
      }
    },
    {
      "cell_type": "code",
      "source": [
        "x = (10,13,12,17,11,19,18,15,14)\n",
        "y = list(x)              #1st change list in tuple\n",
        "y.sort()                 #we can sort list using sort operation\n",
        "print(tuple(y))"
      ],
      "metadata": {
        "id": "-3vO0rDfjwAU",
        "outputId": "9d170793-696d-441c-fe76-baf58d791139",
        "colab": {
          "base_uri": "https://localhost:8080/"
        }
      },
      "execution_count": null,
      "outputs": [
        {
          "output_type": "stream",
          "name": "stdout",
          "text": [
            "(10, 11, 12, 13, 14, 15, 17, 18, 19)\n"
          ]
        }
      ]
    },
    {
      "cell_type": "markdown",
      "source": [
        "# **Q. 11 Write a Python program to convert a list of multiple integers into a single intege**\n",
        "\n",
        "a. [11, 33, 50] >>> 113350"
      ],
      "metadata": {
        "id": "ZSaijNJP45TH"
      }
    },
    {
      "cell_type": "code",
      "source": [
        "x = [12, 15, 17]\n",
        "  \n",
        "# iterating each element\n",
        "for i in x:\n",
        "    print(i, end=\"\")"
      ],
      "metadata": {
        "colab": {
          "base_uri": "https://localhost:8080/"
        },
        "id": "Smywnsdp5LRE",
        "outputId": "16dd6912-7ee0-4a56-c51f-44f5ffb6d6ce"
      },
      "execution_count": null,
      "outputs": [
        {
          "output_type": "stream",
          "name": "stdout",
          "text": [
            "121517"
          ]
        }
      ]
    },
    {
      "cell_type": "markdown",
      "source": [
        "# **Q.1 Difference between del and clear?**\n",
        "\n",
        "After deleting list , list deletes permanently and we try to call back list it will give error.\n",
        "\n",
        "if we clear a list it only clear list and list becomes empty list.\n",
        "\n",
        "The clear()function is used to delete all the element in a dictionary."
      ],
      "metadata": {
        "id": "WywlXYtNkh5-"
      }
    },
    {
      "cell_type": "code",
      "source": [
        "l = [1,2,3,4,5]\n",
        "del l\n",
        "L"
      ],
      "metadata": {
        "id": "MZLkX7Jt5RYs",
        "outputId": "0e0709f5-23f1-461e-f715-8bd57e976b16",
        "colab": {
          "base_uri": "https://localhost:8080/",
          "height": 201
        }
      },
      "execution_count": null,
      "outputs": [
        {
          "output_type": "error",
          "ename": "NameError",
          "evalue": "ignored",
          "traceback": [
            "\u001b[0;31m---------------------------------------------------------------------------\u001b[0m",
            "\u001b[0;31mNameError\u001b[0m                                 Traceback (most recent call last)",
            "\u001b[0;32m<ipython-input-5-d0773d38a9c8>\u001b[0m in \u001b[0;36m<module>\u001b[0;34m()\u001b[0m\n\u001b[1;32m      1\u001b[0m \u001b[0ml\u001b[0m \u001b[0;34m=\u001b[0m \u001b[0;34m[\u001b[0m\u001b[0;36m1\u001b[0m\u001b[0;34m,\u001b[0m\u001b[0;36m2\u001b[0m\u001b[0;34m,\u001b[0m\u001b[0;36m3\u001b[0m\u001b[0;34m,\u001b[0m\u001b[0;36m4\u001b[0m\u001b[0;34m,\u001b[0m\u001b[0;36m5\u001b[0m\u001b[0;34m]\u001b[0m\u001b[0;34m\u001b[0m\u001b[0;34m\u001b[0m\u001b[0m\n\u001b[1;32m      2\u001b[0m \u001b[0;32mdel\u001b[0m \u001b[0ml\u001b[0m\u001b[0;34m\u001b[0m\u001b[0;34m\u001b[0m\u001b[0m\n\u001b[0;32m----> 3\u001b[0;31m \u001b[0mL\u001b[0m\u001b[0;34m\u001b[0m\u001b[0;34m\u001b[0m\u001b[0m\n\u001b[0m",
            "\u001b[0;31mNameError\u001b[0m: name 'L' is not defined"
          ]
        }
      ]
    },
    {
      "cell_type": "markdown",
      "source": [
        ""
      ],
      "metadata": {
        "id": "Jx-H3F7kk-v_"
      }
    },
    {
      "cell_type": "code",
      "source": [
        "l = [1,2,3,4,5]\n",
        "l.clear()\n",
        "l"
      ],
      "metadata": {
        "id": "sUZqk-8Zk79L",
        "outputId": "dfdb4dac-33ae-4e81-f849-5b20b4b94314",
        "colab": {
          "base_uri": "https://localhost:8080/"
        }
      },
      "execution_count": null,
      "outputs": [
        {
          "output_type": "execute_result",
          "data": {
            "text/plain": [
              "[]"
            ]
          },
          "metadata": {},
          "execution_count": 6
        }
      ]
    },
    {
      "cell_type": "markdown",
      "source": [
        "# **Q.2 Difference between remove and pop?**\n",
        "\n",
        "Remove: To delete value this method uses the value as a parameter.\n",
        "\n",
        "•The remove()method doesn't return any value.\n",
        "\n",
        "•At a time it deletes only one value from the list.\n",
        "\n",
        "Pop: This method also uses the index as a parameter to delete.\n",
        "\n",
        "•pop()returns deleted value.\n",
        "\n",
        "•At a time it deletes only one value from the list."
      ],
      "metadata": {
        "id": "pwzS5UUblo17"
      }
    },
    {
      "cell_type": "code",
      "source": [
        "l=[1,2,4,5,7,5]\n",
        "print(l.remove(5))\n",
        "l"
      ],
      "metadata": {
        "id": "XPR1QH8al8lD",
        "outputId": "c7fe4030-7b12-4a1d-9862-9234d19bc8fc",
        "colab": {
          "base_uri": "https://localhost:8080/"
        }
      },
      "execution_count": null,
      "outputs": [
        {
          "output_type": "stream",
          "name": "stdout",
          "text": [
            "None\n"
          ]
        },
        {
          "output_type": "execute_result",
          "data": {
            "text/plain": [
              "[1, 2, 4, 7, 5]"
            ]
          },
          "metadata": {},
          "execution_count": 7
        }
      ]
    },
    {
      "cell_type": "code",
      "source": [
        "print(l.pop())\n",
        "4"
      ],
      "metadata": {
        "id": "38-dhVWBl9Yt",
        "outputId": "e37e332d-a967-4d75-d7fa-80b851324d5c",
        "colab": {
          "base_uri": "https://localhost:8080/"
        }
      },
      "execution_count": null,
      "outputs": [
        {
          "output_type": "stream",
          "name": "stdout",
          "text": [
            "5\n"
          ]
        },
        {
          "output_type": "execute_result",
          "data": {
            "text/plain": [
              "4"
            ]
          },
          "metadata": {},
          "execution_count": 8
        }
      ]
    },
    {
      "cell_type": "markdown",
      "source": [
        "# **Q.3 Difference between indexing and Slicing?**\n",
        "\n",
        "indexing: using indexing we can call just indexing item in list or tuple\n",
        "\n",
        "slicing : useing index we can slice list items in range. and also we can decide start , end and steps as well.\n",
        "\n",
        "note : indexing from left side starts from \"0\", and from right side starts from -1\n",
        "\n",
        "if index value not in range of list indexing shows error but in slicing never show error"
      ],
      "metadata": {
        "id": "zFHi8iDjmmcS"
      }
    },
    {
      "cell_type": "code",
      "source": [
        ""
      ],
      "metadata": {
        "id": "tToHrjfHmyBW"
      },
      "execution_count": null,
      "outputs": []
    },
    {
      "cell_type": "markdown",
      "source": [
        "# **Q.4 Difference between sort and sorted**\n",
        "\n",
        "sorted()\n",
        "\n",
        "sorted() method sorts the given sequence as well as set and dictionary(which is not a sequence) either in ascending order or in descending order(does unicode comparison for string char by char) and always return the a sorted list. This method doesnot effect the original sequence.\n",
        "\n",
        "sort()\n",
        "\n",
        "sort() function is very similar to sorted() but unlike sorted it returns nothing and makes changes to the original sequence."
      ],
      "metadata": {
        "id": "aDEuvtvcmyjM"
      }
    },
    {
      "cell_type": "code",
      "source": [
        ""
      ],
      "metadata": {
        "id": "AP3QmyffnB7G"
      },
      "execution_count": null,
      "outputs": []
    },
    {
      "cell_type": "markdown",
      "source": [
        "# **Q.5 Difference between reverse and reversed?**\n",
        "\n",
        "reverse() actually reverses the elements in the container. reversed() doesn't actually reverse anything, it merely returns an object that can be used to iterate over the container's elements in reverse order."
      ],
      "metadata": {
        "id": "BflgNd1LnCda"
      }
    },
    {
      "cell_type": "code",
      "source": [
        ""
      ],
      "metadata": {
        "id": "8aSq0S6AnKyl"
      },
      "execution_count": null,
      "outputs": []
    },
    {
      "cell_type": "markdown",
      "source": [
        "# **Q.6 Difference between copy and deep copy?**\n",
        "\n",
        "In case of deep copy, a copy of object is copied in other object. It means that any changes made to a copy of object do not reflect in the original object. In python, this is implemented using “deepcopy()” function.\n",
        "\n",
        "copy means constructing a new collection object and then populating it with references to the child objects found in the original. The copying process does not recurse and therefore won’t create copies of the child objects themselves. In case of shallow copy, a reference of object is copied in other object. It means that any changes made to a copy of object do reflect in the original object. In python, this is implemented using “copy()” function."
      ],
      "metadata": {
        "id": "ylz8FSsUnLek"
      }
    },
    {
      "cell_type": "code",
      "source": [
        ""
      ],
      "metadata": {
        "id": "o1XAWXHhnUiV"
      },
      "execution_count": null,
      "outputs": []
    },
    {
      "cell_type": "markdown",
      "source": [
        "# **Q.7 How to check whether the list is empty or not?**\n",
        "\n",
        "Empty lists are considered False in Python, hence the bool() function would return False if the list was passed as an argument. Other methods you can use to check if a list is empty are placing it inside an if statement, using the len() methods, or comparing it with an empty list."
      ],
      "metadata": {
        "id": "QSYZdKD7nVL_"
      }
    },
    {
      "cell_type": "code",
      "source": [
        ""
      ],
      "metadata": {
        "id": "Iko3Wf0dnhhy"
      },
      "execution_count": null,
      "outputs": []
    },
    {
      "cell_type": "markdown",
      "source": [
        "# Q.8 How to concatenate two lists?"
      ],
      "metadata": {
        "id": "jmO7PIXrngsM"
      }
    },
    {
      "cell_type": "code",
      "source": [
        "list1 = [1,2,3,4,5,6,7]\n",
        "list2 = [5,6,7,8,9,10]\n",
        "list3 = list1 + list2\n",
        "print(list3)"
      ],
      "metadata": {
        "id": "33K9XlkonnIO",
        "outputId": "ff615144-6902-4faa-c024-dea2a5931922",
        "colab": {
          "base_uri": "https://localhost:8080/"
        }
      },
      "execution_count": null,
      "outputs": [
        {
          "output_type": "stream",
          "name": "stdout",
          "text": [
            "[1, 2, 3, 4, 5, 6, 7, 5, 6, 7, 8, 9, 10]\n"
          ]
        }
      ]
    },
    {
      "cell_type": "markdown",
      "source": [
        "# **Q.9 How to find the occurrences of an element in the python list?**\n",
        "### using count operation we can find occurrence of an element in python "
      ],
      "metadata": {
        "id": "K-z0aNuyn13s"
      }
    },
    {
      "cell_type": "code",
      "source": [
        "l = [11,12,13,14,11,12,13,14,11,14,11,12]\n",
        "\n",
        "print(l.count(11))\n",
        "print(l.count(12))\n",
        "print(l.count(13))\n",
        "print(l.count(14))"
      ],
      "metadata": {
        "id": "0vGL5tsDoHp9",
        "outputId": "893ca4af-536c-4f0e-aca2-65d4a7104e4d",
        "colab": {
          "base_uri": "https://localhost:8080/"
        }
      },
      "execution_count": null,
      "outputs": [
        {
          "output_type": "stream",
          "name": "stdout",
          "text": [
            "4\n",
            "3\n",
            "2\n",
            "3\n"
          ]
        }
      ]
    },
    {
      "cell_type": "markdown",
      "source": [
        "# **Q.10 How to flatten a list in python?**"
      ],
      "metadata": {
        "id": "Doul03NQoWqE"
      }
    },
    {
      "cell_type": "code",
      "source": [
        "def flatten(list1):\n",
        "    if isinstance(list1, list):\n",
        "        list2 = []\n",
        "        for i in list1:\n",
        "            list2.extend(flatten(i))\n",
        "        return list2\n",
        "    else:\n",
        "        return [list1]"
      ],
      "metadata": {
        "id": "dOrQQhmAoN8-"
      },
      "execution_count": null,
      "outputs": []
    },
    {
      "cell_type": "code",
      "source": [
        "list1 = [[11,12,13],[14,15,116],[17,18,19,20]]\n",
        "flatten(list1)"
      ],
      "metadata": {
        "id": "ydccf2_iofjj",
        "outputId": "997fe05f-0957-4243-9956-1b69821fede8",
        "colab": {
          "base_uri": "https://localhost:8080/"
        }
      },
      "execution_count": null,
      "outputs": [
        {
          "output_type": "execute_result",
          "data": {
            "text/plain": [
              "[11, 12, 13, 14, 15, 116, 17, 18, 19, 20]"
            ]
          },
          "metadata": {},
          "execution_count": 14
        }
      ]
    }
  ]
}