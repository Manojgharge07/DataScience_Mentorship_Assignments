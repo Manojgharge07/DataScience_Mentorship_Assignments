{
  "cells": [
    {
      "cell_type": "markdown",
      "metadata": {
        "id": "view-in-github",
        "colab_type": "text"
      },
      "source": [
        "<a href=\"https://colab.research.google.com/github/Manojgharge07/DataScience_Mentorship_Assignments/blob/main/Python_Project_1.ipynb\" target=\"_parent\"><img src=\"https://colab.research.google.com/assets/colab-badge.svg\" alt=\"Open In Colab\"/></a>"
      ]
    },
    {
      "cell_type": "markdown",
      "source": [
        "# **ATM System (Command line)**\n",
        "\n",
        "Enter your card valid card check all are numbers? ---> (Take inputs)\n",
        "\n",
        "1. **Display menu**(Withdrawal, saving, current, other)\n",
        "2. **Other**\n",
        "\n",
        "a. PIN change, Block card\n",
        "\n",
        "3. **Withdrawal**\n",
        "\n",
        "a. Enter the amount to withdrawal in terms of 200 RS\n",
        "\n",
        "b. Check balance info\n",
        "\n",
        "c. If balance low then display Error message (Low balance)\n",
        "\n",
        "d. exit()\n",
        "\n",
        "e. Thank you\n",
        "\n",
        "Else:\n",
        "\n",
        "Update the remaining balance\n",
        "\n",
        "Write the balance in file.csv (name, account number, balance account type) Display message of successful transaction exit()\n",
        "\n",
        "**4. PIN Exchange**\n",
        "\n",
        "a. Enter card\n",
        "\n",
        "b. Enter the OTP\n",
        "\n",
        "c. Validate the OTP and mobile number\n",
        "\n",
        "d. Update the pin (as of now write it in csv file)file.csv (name, account number, balance account type, PIN)\n",
        "\n",
        "e. Display message of successful pin change\n",
        "\n",
        "f. Exit()\n",
        "\n",
        "**5. Block Card**\n",
        "\n",
        "a. Enter card number\n",
        "\n",
        "b. Enter the OTP\n",
        "\n",
        "c. Validate the OTP and mobile number\n",
        "\n",
        "d. Update the access field in csv to BLOCK ile.csv (name, account number, balance account type, PIN, access)\n",
        "\n",
        "e. Display successful message\n",
        "\n",
        "f. exit"
      ],
      "metadata": {
        "id": "7t0O9Cz8o0wZ"
      }
    },
    {
      "cell_type": "markdown",
      "source": [
        "# **Function For Display menu**"
      ],
      "metadata": {
        "id": "qH-m-zVyqFT1"
      }
    },
    {
      "cell_type": "code",
      "execution_count": 7,
      "metadata": {
        "colab": {
          "base_uri": "https://localhost:8080/"
        },
        "id": "p27Bmt6_qhJ0",
        "outputId": "60ddf04d-926c-4ab5-c575-e68d4fc84519"
      },
      "outputs": [
        {
          "output_type": "stream",
          "name": "stdout",
          "text": [
            "Welcome to HDFC Bank\n",
            "\n",
            "Please insert your card\n",
            "\n",
            "Enter your four digit pin number\n",
            "1234\n",
            "**Display menu**\n",
            "1, Withdrawal\n",
            "2. Saving\n",
            "3. Current\n",
            "4. Other\n",
            "Enter option number\n",
            "\n",
            "4\n",
            "1. Pin change\n",
            "2. Block card\n"
          ]
        }
      ],
      "source": [
        "print(\"Welcome to HDFC Bank\\n\\nPlease insert your card\\n\")\n",
        "\n",
        "password = 1234\n",
        "choise = 0\n",
        "\n",
        "pin = int(input(\"Enter your four digit pin number\\n\"))\n",
        "\n",
        "if pin == password:\n",
        "  while choise != 4:\n",
        "    print(\"**Display menu**\")\n",
        "    print(\"1, Withdrawal\")\n",
        "    print(\"2. Saving\")\n",
        "    print(\"3. Current\")\n",
        "    print(\"4. Other\")\n",
        "\n",
        "    choise = int(input(\"Enter option number\\n\\n\"))\n",
        "\n",
        "    if choise == 4.:\n",
        "      print(\"1. Pin change\")\n",
        "      print(\"2. Block card\")\n",
        "  \n",
        "else:\n",
        "  print(\"pin incorrect!! Please try again\")\n"
      ]
    },
    {
      "cell_type": "code",
      "execution_count": null,
      "metadata": {
        "id": "ugN3KIuWNziE"
      },
      "outputs": [],
      "source": [
        ""
      ]
    }
  ],
  "metadata": {
    "colab": {
      "collapsed_sections": [],
      "name": "Python Project_1.ipynb",
      "provenance": [],
      "authorship_tag": "ABX9TyNMopEpRj3niKYfLIG//7Gg",
      "include_colab_link": true
    },
    "kernelspec": {
      "display_name": "Python 3",
      "name": "python3"
    },
    "language_info": {
      "name": "python"
    }
  },
  "nbformat": 4,
  "nbformat_minor": 0
}